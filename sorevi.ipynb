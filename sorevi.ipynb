{
 "cells": [
  {
   "cell_type": "markdown",
   "id": "d64ae693-b470-4037-a7cf-2cc7ea10b4ca",
   "metadata": {},
   "source": [
    "1) ПРЕДВАРИТЕЛЬНАЯ ОБРАБОТКА ДАННЫХ"
   ]
  },
  {
   "cell_type": "markdown",
   "id": "7232ce3a-a8ed-446b-a7cc-dfc63e8c71c1",
   "metadata": {},
   "source": [
    "Подгружаем необходимые библиотеки "
   ]
  },
  {
   "cell_type": "code",
   "execution_count": 1,
   "id": "92b02782-23aa-4b81-acdf-d7f44ee9c018",
   "metadata": {},
   "outputs": [],
   "source": [
    "import pandas as pd\n",
    "import pdfplumber\n",
    "import re\n",
    "import matplotlib.pyplot as plt \n",
    "import seaborn as sns\n",
    "from scipy import stats\n",
    "from scipy.stats import kruskal, mannwhitneyu\n",
    "import scikit_posthocs as sp\n",
    "\n",
    "\n"
   ]
  },
  {
   "cell_type": "markdown",
   "id": "8f33ee6b-21c2-4058-828c-f21bc66c61ea",
   "metadata": {},
   "source": [
    "Используем библиотеку pdfplumber для преобразования файла в датафрейм"
   ]
  },
  {
   "cell_type": "code",
   "execution_count": 2,
   "id": "417158e5-6df0-46f5-8b13-f7564ee0d462",
   "metadata": {},
   "outputs": [],
   "source": [
    "pdf_path = r\"C:\\Users\\User\\Downloads\\Nominacia studenceskie zim 01.10.2024.pdf\"\n",
    "with pdfplumber.open(pdf_path) as pdf:\n",
    "    text = ''\n",
    "    for page in pdf.pages:\n",
    "        text += page.extract_text()\n",
    "\n",
    "lines = text.split(\"\\n\")\n",
    "participants = [line for line in lines if 'Санкт-Петербург' in line]\n",
    "df = pd.DataFrame(participants, columns=[\"Участники\"])"
   ]
  },
  {
   "cell_type": "markdown",
   "id": "80840d07-b923-4703-8094-603e4c564c30",
   "metadata": {},
   "source": [
    "Удаляем названия вузов"
   ]
  },
  {
   "cell_type": "code",
   "execution_count": 3,
   "id": "98ea1720-aa58-4bf9-8a3a-2605ce5ceec6",
   "metadata": {},
   "outputs": [],
   "source": [
    "players = df.loc[:171].copy()\n",
    "\n",
    "substrings_to_remove = [\n",
    "    'БГТУ \"ВОЕНМЕХ\"', 'ВТУ ЖДВ', 'ГАСУ', 'Горный университе', 'ГУАП',\n",
    "    'ГУМРФ им. С.О. М', 'ИТМО', 'ЛГУ им. А.С. Пушк', 'ЛЭТИ', 'ПСПбГМУ им. И.П',\n",
    "    'РГГМУ', 'РГПУ им. А.И.Герц', 'СПб ГАУ', 'СПб ГТИ(ТУ)', 'СПб ГУГА',\n",
    "    'СПб ГУ', 'СПБ ГУ ПТиД', 'СПб МТУ', 'СПб ПУ', 'Санкт-Петербург'\n",
    "]\n",
    "pattern = '|'.join(map(re.escape, substrings_to_remove))\n",
    "players['Участники'] = players['Участники'].replace(to_replace=pattern, value='', regex=True)"
   ]
  },
  {
   "cell_type": "markdown",
   "id": "750de0c8-79c6-422d-bd0b-86b9f4de8e8f",
   "metadata": {},
   "source": [
    "Удаляем лишние слова, заменяем пропуски на нулевые значения"
   ]
  },
  {
   "cell_type": "code",
   "execution_count": 4,
   "id": "57946601-a621-42f8-b3f6-aed753b0cdd2",
   "metadata": {},
   "outputs": [],
   "source": [
    "def remove_first_three_words(text):\n",
    "    words = text.split()\n",
    "    return ' '.join(words[3:])\n",
    "\n",
    "players['Участники'] = players['Участники'].apply(remove_first_three_words)\n",
    "players['Участники'] = players['Участники'].replace(to_replace='- -', value='0', regex=True)\n",
    "\n",
    "def is_integer(word):\n",
    "    try:\n",
    "        int(word)\n",
    "        return True\n",
    "    except ValueError:\n",
    "        return False\n",
    "\n",
    "def remove_first_word_if_not_int(text):\n",
    "    words = text.split(' ', 1)\n",
    "    if len(words) > 1:\n",
    "        first_word, rest = words\n",
    "        if not is_integer(first_word):\n",
    "            return rest\n",
    "    return text\n",
    "\n",
    "players['Участники'] = players['Участники'].apply(remove_first_word_if_not_int)"
   ]
  },
  {
   "cell_type": "markdown",
   "id": "118d1d6d-5295-436a-ab95-2a78cb78be48",
   "metadata": {},
   "source": [
    "Также делим общий столбец \"Участники\" на несколько столбцов, заменяем запятые на точки и применяем нужные типы."
   ]
  },
  {
   "cell_type": "code",
   "execution_count": 5,
   "id": "c6c1d78c-ea95-4ff9-9eff-c3b4936f82dd",
   "metadata": {},
   "outputs": [],
   "source": [
    "def remove_last_words(text):\n",
    "    words = text.split()\n",
    "    return ' '.join(words[:4])\n",
    "\n",
    "players['Участники'] = players['Участники'].apply(remove_last_words)\n",
    "\n",
    "players[['born', 'sports_cat', 'weight_cat', 'best_result']] = players['Участники'].str.split(' ', n=3, expand=True)\n",
    "\n",
    "players['best_result'] = players['best_result'].str.replace(',', '.').astype(float)"
   ]
  },
  {
   "cell_type": "markdown",
   "id": "bf249e00-c46f-4863-a9e4-f7b2260ac058",
   "metadata": {},
   "source": [
    "Удаляем изначальный столбец, меняем максимальные женские и мужские весовые категории, чтобы избавиться от плюса, т.к дальше для анализа нам нужны числовые значения.\n",
    "\n",
    "Помимо этого, первые строки каждой страницы pdf файла не перенеслись, поэтому добавил их вручную."
   ]
  },
  {
   "cell_type": "code",
   "execution_count": 6,
   "id": "16f5c090-3cce-474d-b556-3809d7dd5f2d",
   "metadata": {},
   "outputs": [],
   "source": [
    "players.drop(columns='Участники', inplace=True)\n",
    "\n",
    "players['weight_cat'] = players['weight_cat'].replace({'84+': '100', '120+': '140'})\n",
    "players['weight_cat'] = players['weight_cat'].astype(float)\n",
    "\n",
    "players.loc[:50, 'gender'] = 'f'\n",
    "players.loc[51:, 'gender'] = 'm'\n",
    "\n",
    "new_rows = pd.DataFrame({\n",
    "    'born': ['2000', '2002', '2002', '2006', '2005'],\n",
    "    'sports_cat': ['КМС', 'КМС', '-', '1', '-'],\n",
    "    'weight_cat': [63, 59, 74, 83, 120],\n",
    "    'best_result': [67.5, 100.0, 0, 0, 135.0],\n",
    "    'gender': ['f', 'm', 'm', 'm', 'm']\n",
    "})\n",
    "players = pd.concat([players, new_rows], ignore_index=True)"
   ]
  },
  {
   "cell_type": "markdown",
   "id": "fd66a159-8082-4d9f-b176-838d5aee825f",
   "metadata": {},
   "source": [
    "Разделим датафреймы по половому признаку и по наличию результатов. \n",
    "\n",
    "К сожалению, у многих (примерно половины) спортсменов не был занесен их лучший результат в жиме, что сильно уменьшило выборку до 72 строк. Однако это всё равно позволит нам сделать интересные заключения. В итоге у нас получается такой датафрейм, содержащий данные о результатах мужчин"
   ]
  },
  {
   "cell_type": "code",
   "execution_count": 18,
   "id": "23cb1d15-9c59-4279-9e26-04d54c7a7ae5",
   "metadata": {},
   "outputs": [
    {
     "data": {
      "text/html": [
       "<div>\n",
       "<style scoped>\n",
       "    .dataframe tbody tr th:only-of-type {\n",
       "        vertical-align: middle;\n",
       "    }\n",
       "\n",
       "    .dataframe tbody tr th {\n",
       "        vertical-align: top;\n",
       "    }\n",
       "\n",
       "    .dataframe thead th {\n",
       "        text-align: right;\n",
       "    }\n",
       "</style>\n",
       "<table border=\"1\" class=\"dataframe\">\n",
       "  <thead>\n",
       "    <tr style=\"text-align: right;\">\n",
       "      <th></th>\n",
       "      <th>born</th>\n",
       "      <th>sports_cat</th>\n",
       "      <th>weight_cat</th>\n",
       "      <th>best_result</th>\n",
       "      <th>gender</th>\n",
       "    </tr>\n",
       "  </thead>\n",
       "  <tbody>\n",
       "    <tr>\n",
       "      <th>51</th>\n",
       "      <td>2002</td>\n",
       "      <td>КМС</td>\n",
       "      <td>59.0</td>\n",
       "      <td>100.0</td>\n",
       "      <td>m</td>\n",
       "    </tr>\n",
       "    <tr>\n",
       "      <th>52</th>\n",
       "      <td>2005</td>\n",
       "      <td>КМС</td>\n",
       "      <td>59.0</td>\n",
       "      <td>92.5</td>\n",
       "      <td>m</td>\n",
       "    </tr>\n",
       "    <tr>\n",
       "      <th>53</th>\n",
       "      <td>2005</td>\n",
       "      <td>1</td>\n",
       "      <td>59.0</td>\n",
       "      <td>90.0</td>\n",
       "      <td>m</td>\n",
       "    </tr>\n",
       "    <tr>\n",
       "      <th>54</th>\n",
       "      <td>2003</td>\n",
       "      <td>-</td>\n",
       "      <td>59.0</td>\n",
       "      <td>87.5</td>\n",
       "      <td>m</td>\n",
       "    </tr>\n",
       "    <tr>\n",
       "      <th>55</th>\n",
       "      <td>2001</td>\n",
       "      <td>-</td>\n",
       "      <td>59.0</td>\n",
       "      <td>75.0</td>\n",
       "      <td>m</td>\n",
       "    </tr>\n",
       "    <tr>\n",
       "      <th>...</th>\n",
       "      <td>...</td>\n",
       "      <td>...</td>\n",
       "      <td>...</td>\n",
       "      <td>...</td>\n",
       "      <td>...</td>\n",
       "    </tr>\n",
       "    <tr>\n",
       "      <th>155</th>\n",
       "      <td>1999</td>\n",
       "      <td>2</td>\n",
       "      <td>105.0</td>\n",
       "      <td>140.0</td>\n",
       "      <td>m</td>\n",
       "    </tr>\n",
       "    <tr>\n",
       "      <th>156</th>\n",
       "      <td>2005</td>\n",
       "      <td>-</td>\n",
       "      <td>105.0</td>\n",
       "      <td>120.0</td>\n",
       "      <td>m</td>\n",
       "    </tr>\n",
       "    <tr>\n",
       "      <th>168</th>\n",
       "      <td>2001</td>\n",
       "      <td>-</td>\n",
       "      <td>140.0</td>\n",
       "      <td>132.5</td>\n",
       "      <td>m</td>\n",
       "    </tr>\n",
       "    <tr>\n",
       "      <th>173</th>\n",
       "      <td>2002</td>\n",
       "      <td>КМС</td>\n",
       "      <td>59.0</td>\n",
       "      <td>100.0</td>\n",
       "      <td>m</td>\n",
       "    </tr>\n",
       "    <tr>\n",
       "      <th>176</th>\n",
       "      <td>2005</td>\n",
       "      <td>-</td>\n",
       "      <td>120.0</td>\n",
       "      <td>135.0</td>\n",
       "      <td>m</td>\n",
       "    </tr>\n",
       "  </tbody>\n",
       "</table>\n",
       "<p>72 rows × 5 columns</p>\n",
       "</div>"
      ],
      "text/plain": [
       "     born sports_cat  weight_cat  best_result gender\n",
       "51   2002        КМС        59.0        100.0      m\n",
       "52   2005        КМС        59.0         92.5      m\n",
       "53   2005          1        59.0         90.0      m\n",
       "54   2003          -        59.0         87.5      m\n",
       "55   2001          -        59.0         75.0      m\n",
       "..    ...        ...         ...          ...    ...\n",
       "155  1999          2       105.0        140.0      m\n",
       "156  2005          -       105.0        120.0      m\n",
       "168  2001          -       140.0        132.5      m\n",
       "173  2002        КМС        59.0        100.0      m\n",
       "176  2005          -       120.0        135.0      m\n",
       "\n",
       "[72 rows x 5 columns]"
      ]
     },
     "execution_count": 18,
     "metadata": {},
     "output_type": "execute_result"
    }
   ],
   "source": [
    "male_players = players.query('gender == \"m\"')\n",
    "female_players = players.query('gender == \"f\"')\n",
    "\n",
    "male_with_results = male_players.query('best_result != 0')\n",
    "female_with_results = female_players.query('best_result != 0')\n",
    "male_with_results"
   ]
  },
  {
   "cell_type": "markdown",
   "id": "7285fb72-cc0f-4879-8626-25a2c390056e",
   "metadata": {},
   "source": [
    "2) ОПИСАТЕЛЬНЫЙ АНАЛИЗ РЕЗУЛЬТАТОВ И ВИЗУАЛИЗАЦИЯ"
   ]
  },
  {
   "cell_type": "markdown",
   "id": "1cee10a1-a077-4d4a-96c1-85e29496f560",
   "metadata": {},
   "source": [
    "Можно заметить, что присутствует мутант (как выяснится позже, их двое), который жмет 180. Тем не менее, мой лучший результат (120) выше среднего, медианы и моды, что не может не радовать"
   ]
  },
  {
   "cell_type": "code",
   "execution_count": 8,
   "id": "a475f2cb-659f-45f7-9802-e829b0c3f8a2",
   "metadata": {},
   "outputs": [
    {
     "name": "stdout",
     "output_type": "stream",
     "text": [
      "180.0\n",
      "75.0\n",
      "112.74305555555556\n",
      "110.0\n",
      "0    100.0\n",
      "Name: best_result, dtype: float64\n"
     ]
    }
   ],
   "source": [
    "print(male_with_results['best_result'].max())\n",
    "print(male_with_results['best_result'].min())\n",
    "\n",
    "mean_values = male_with_results['best_result'].mean()\n",
    "median_values = male_with_results['best_result'].median()\n",
    "mode_values = male_with_results['best_result'].mode()\n",
    "\n",
    "print(mean_values)\n",
    "print(median_values)\n",
    "print(mode_values)"
   ]
  },
  {
   "cell_type": "markdown",
   "id": "903d1b39-aac8-458b-a08a-c38e1dca7e03",
   "metadata": {},
   "source": [
    "Если говорить про мою весовую категорию (до 83 кг), то я совсем немного выше среднего по основным показателям. "
   ]
  },
  {
   "cell_type": "code",
   "execution_count": 9,
   "id": "961c2103-f791-42a8-8be0-47c8bd9d92d7",
   "metadata": {},
   "outputs": [
    {
     "name": "stdout",
     "output_type": "stream",
     "text": [
      "113.21428571428571\n",
      "115.0\n",
      "0    100.0\n",
      "Name: best_result, dtype: float64\n"
     ]
    }
   ],
   "source": [
    "mean_values_83 = male_with_results.query('weight_cat == 83')['best_result'].mean()\n",
    "median_values_83 = male_with_results.query('weight_cat == 83')['best_result'].median()\n",
    "mode_values_83 = male_with_results.query('weight_cat == 83')['best_result'].mode()\n",
    "\n",
    "print(mean_values_83)\n",
    "print(median_values_83)\n",
    "print(mode_values_83)"
   ]
  },
  {
   "cell_type": "markdown",
   "id": "41fa5f55-fb5f-4783-aef0-41be086c3d65",
   "metadata": {},
   "source": [
    "Добавим две визуализации с распределением результатов. Первая - обычное распределение, вторая содержит разбиение на весовые и линию корреляции.\n",
    "\n",
    "По второй несложно заметить, что вес определенно имеет отношение к результату спортсмена. "
   ]
  },
  {
   "cell_type": "code",
   "execution_count": 10,
   "id": "31bd5d61-bd88-4002-91a6-675a62aba576",
   "metadata": {},
   "outputs": [
    {
     "data": {
      "image/png": "[encoded data removed]",
      "text/plain": [
       "<Figure size 1000x600 with 1 Axes>"
      ]
     },
     "metadata": {},
     "output_type": "display_data"
    }
   ],
   "source": [
    "plt.figure(figsize=(10, 6))\n",
    "sns.histplot(\n",
    "    male_with_results['best_result'],\n",
    "    bins=range(\n",
    "        int(male_with_results['best_result'].min()),\n",
    "        int(male_with_results['best_result'].max()) + 5, 5\n",
    "    ),\n",
    "    kde=False\n",
    ")\n",
    "plt.title('Распределение best_result (Seaborn)')\n",
    "plt.xlabel('best_result (в кг)')\n",
    "plt.ylabel('Частота')\n",
    "plt.grid(True)\n",
    "plt.show()"
   ]
  },
  {
   "cell_type": "code",
   "execution_count": 11,
   "id": "bff15e0c-ceab-40ee-b87c-1fafc2ebd163",
   "metadata": {},
   "outputs": [
    {
     "data": {
      "image/png": "[encoded data removed]",
      "text/plain": [
       "<Figure size 1000x600 with 1 Axes>"
      ]
     },
     "metadata": {},
     "output_type": "display_data"
    }
   ],
   "source": [
    "plt.figure(figsize=(10, 6))\n",
    "sns.scatterplot(\n",
    "    data=male_with_results,\n",
    "    x='weight_cat',\n",
    "    y='best_result',\n",
    "    hue='weight_cat',\n",
    "    palette='Set2',\n",
    "    s=100\n",
    ")\n",
    "sns.regplot(\n",
    "    data=male_with_results,\n",
    "    x='weight_cat',\n",
    "    y='best_result',\n",
    "    scatter=False,\n",
    "    color='blue'\n",
    ")\n",
    "plt.xticks(\n",
    "    ticks=[59, 66, 74, 83, 93, 105, 120, 140],\n",
    "    labels=[59, 66, 74, 83, 93, 105, 120, 140]\n",
    ")\n",
    "plt.title('Распределение best_result по весовым категориям с корреляционной линией')\n",
    "plt.xlabel('Весовая категория (weight_cat)')\n",
    "plt.ylabel('Лучший результат (best_result)')\n",
    "plt.grid(True)\n",
    "plt.show()"
   ]
  },
  {
   "cell_type": "markdown",
   "id": "146676dd-cf32-49c9-87b1-c9914c0a29fe",
   "metadata": {},
   "source": [
    "Также проведя тест Шапиро-Уилка, получаем что данные распределены ненормально: p-value = 0.037, что меньше 0.05. "
   ]
  },
  {
   "cell_type": "code",
   "execution_count": 12,
   "id": "a989f7aa-52b8-4afc-8094-2ed88e75dc21",
   "metadata": {},
   "outputs": [
    {
     "name": "stdout",
     "output_type": "stream",
     "text": [
      "Shapiro-Wilk test: Statistic=0.959524219705579, p-value=0.020769541703241065\n",
      "Shapiro-Wilk test (без 180.0): Statistic=0.9630805844800355, p-value=0.037125005966659526\n"
     ]
    }
   ],
   "source": [
    "stat, p_value = stats.shapiro(male_with_results['best_result'])\n",
    "print(f\"Shapiro-Wilk test: Statistic={stat}, p-value={p_value}\")\n",
    "\n",
    "stat_filtered, p_value_filtered = stats.shapiro(\n",
    "    male_with_results.query('best_result != 180.0')['best_result']\n",
    ")\n",
    "print(f\"Shapiro-Wilk test (без 180.0): Statistic={stat_filtered}, p-value={p_value_filtered}\")"
   ]
  },
  {
   "cell_type": "markdown",
   "id": "80f9627b-e243-4793-87b2-c4b32c68349f",
   "metadata": {},
   "source": [
    "Строим матрицу корреляции, которая отображает связь показателей года рождения, весовой категории и лучшего результата спортсмена. \n",
    "\n",
    " Из интересного: можно заметить достаточно сильную корреляцию между весовой категорий и лучшим результатом, при этом слабую корреляцию между годом рождения и результатом. Возведя результаты в квадрат, получаем коэффициент детерминации (R^2). Он говорит, что до ~6%   результатов можно объяснить годом рождения человека (чем старше, тем лучше результат), и что до ~35%  результатов можно объяснить весом участника. "
   ]
  },
  {
   "cell_type": "code",
   "execution_count": 13,
   "id": "f26bda13-da7d-4bdc-8fba-3d75e114b739",
   "metadata": {},
   "outputs": [
    {
     "name": "stdout",
     "output_type": "stream",
     "text": [
      "                 born  weight_cat  best_result\n",
      "born         1.000000   -0.192442    -0.244256\n",
      "weight_cat  -0.192442    1.000000     0.592626\n",
      "best_result -0.244256    0.592626     1.000000\n"
     ]
    }
   ],
   "source": [
    "correlation_matrix = male_with_results[['born', 'weight_cat', 'best_result']].corr()\n",
    "print(correlation_matrix)"
   ]
  },
  {
   "cell_type": "markdown",
   "id": "deb70090-a327-42b4-be7c-a2f4d8ce0849",
   "metadata": {},
   "source": [
    "3) СТАТИСТИЧЕСКИЕ СРАВНЕНИЯ 74Б 83 И 93 ВЕСОВЫХ КАТЕГОРИЙ"
   ]
  },
  {
   "cell_type": "markdown",
   "id": "9fc44b26-89ee-4e64-be6f-713d7df90b7b",
   "metadata": {},
   "source": [
    "Сравним основные показатели (главное- среднее) трех категорий"
   ]
  },
  {
   "cell_type": "code",
   "execution_count": 14,
   "id": "95f7597e-109a-45ac-8b56-7feab9d148b9",
   "metadata": {},
   "outputs": [
    {
     "data": {
      "text/html": [
       "<div>\n",
       "<style scoped>\n",
       "    .dataframe tbody tr th:only-of-type {\n",
       "        vertical-align: middle;\n",
       "    }\n",
       "\n",
       "    .dataframe tbody tr th {\n",
       "        vertical-align: top;\n",
       "    }\n",
       "\n",
       "    .dataframe thead th {\n",
       "        text-align: right;\n",
       "    }\n",
       "</style>\n",
       "<table border=\"1\" class=\"dataframe\">\n",
       "  <thead>\n",
       "    <tr style=\"text-align: right;\">\n",
       "      <th></th>\n",
       "      <th>weight_cat</th>\n",
       "      <th>mean</th>\n",
       "      <th>mode</th>\n",
       "      <th>median</th>\n",
       "      <th>max</th>\n",
       "      <th>min</th>\n",
       "    </tr>\n",
       "  </thead>\n",
       "  <tbody>\n",
       "    <tr>\n",
       "      <th>0</th>\n",
       "      <td>74</td>\n",
       "      <td>108.333333</td>\n",
       "      <td>100.0</td>\n",
       "      <td>110.0</td>\n",
       "      <td>127.5</td>\n",
       "      <td>85.0</td>\n",
       "    </tr>\n",
       "    <tr>\n",
       "      <th>1</th>\n",
       "      <td>83</td>\n",
       "      <td>113.214286</td>\n",
       "      <td>100.0</td>\n",
       "      <td>115.0</td>\n",
       "      <td>180.0</td>\n",
       "      <td>75.0</td>\n",
       "    </tr>\n",
       "    <tr>\n",
       "      <th>2</th>\n",
       "      <td>93</td>\n",
       "      <td>125.714286</td>\n",
       "      <td>130.0</td>\n",
       "      <td>130.0</td>\n",
       "      <td>142.5</td>\n",
       "      <td>107.5</td>\n",
       "    </tr>\n",
       "  </tbody>\n",
       "</table>\n",
       "</div>"
      ],
      "text/plain": [
       "   weight_cat        mean   mode  median    max    min\n",
       "0          74  108.333333  100.0   110.0  127.5   85.0\n",
       "1          83  113.214286  100.0   115.0  180.0   75.0\n",
       "2          93  125.714286  130.0   130.0  142.5  107.5"
      ]
     },
     "execution_count": 14,
     "metadata": {},
     "output_type": "execute_result"
    }
   ],
   "source": [
    "male_74 =male_with_results.query('weight_cat == 74')\n",
    "male_83 =male_with_results.query('weight_cat == 83')\n",
    "male_93 =male_with_results.query('weight_cat == 93')\n",
    "\n",
    "comparison = pd.DataFrame ({'weight_cat':[74, 83, 93],'mean': [male_74.best_result.mean(), male_83.best_result.mean(), male_93.best_result.mean()], 'mode': [male_74.best_result.mode()[0], male_83.best_result.mode()[0], male_93.best_result.mode()[0]], 'median': [male_74.best_result.median(), male_83.best_result.median(), male_93.best_result.median()],\n",
    "    'max': [male_74.best_result.max(), male_83.best_result.max(), male_93.best_result.max()],\n",
    "    'min': [male_74.best_result.min(), male_83.best_result.min(), male_93.best_result.min()]})\n",
    "comparison"
   ]
  },
  {
   "cell_type": "markdown",
   "id": "f6ec2d4e-9569-4894-ac01-b3a3405a329c",
   "metadata": {},
   "source": [
    "Проверяем нормальность распределения, где выясняем, что 93 категория распределена ненормально (p-value < 0.05). Это позволяет нам провести непараметрический тест Краскела-Уоллиса, который не требует нормальности распределений и большой выборки. \n",
    "\n",
    "Тест подтверждает, что существует хотя бы одна значимая разница между этими группами "
   ]
  },
  {
   "cell_type": "code",
   "execution_count": 15,
   "id": "6d50c288-afd7-4581-ae8f-df7700893bc9",
   "metadata": {},
   "outputs": [
    {
     "name": "stdout",
     "output_type": "stream",
     "text": [
      "Весовая категория 74: Statistic=0.9487504633375695, p-value=0.5049905024934114\n",
      "Весовая категория 83: Statistic=0.9481935652732456, p-value=0.31474515414682946\n",
      "Весовая категория 93: Statistic=0.8607445903371022, p-value=0.031176696746381176\n",
      "Kruskal-Wallis H-статистика: 9.198097843630974, p-value: 0.01006140037395879\n"
     ]
    }
   ],
   "source": [
    "stat74, p74 = stats.shapiro(male_74['best_result'])\n",
    "stat83, p83 = stats.shapiro(male_83['best_result'])\n",
    "stat93, p93 = stats.shapiro(male_93['best_result'])\n",
    "\n",
    "print(f\"Весовая категория 74: Statistic={stat74}, p-value={p74}\")\n",
    "print(f\"Весовая категория 83: Statistic={stat83}, p-value={p83}\")\n",
    "print(f\"Весовая категория 93: Statistic={stat93}, p-value={p93}\")\n",
    "\n",
    "kruskal_result = kruskal(\n",
    "    male_74['best_result'],\n",
    "    male_83['best_result'],\n",
    "    male_93['best_result'],\n",
    ")\n",
    "print(f\"Kruskal-Wallis H-статистика: {kruskal_result.statistic}, p-value: {kruskal_result.pvalue}\")"
   ]
  },
  {
   "cell_type": "markdown",
   "id": "31a8d26c-fc12-42af-8092-65985a5ec779",
   "metadata": {},
   "source": [
    "Проводим тест Манна-Уитни для сравнения групп попарно, чтобы выяснить, какие именно группы отличается"
   ]
  },
  {
   "cell_type": "code",
   "execution_count": 16,
   "id": "4bbe010f-df0f-4b2e-8b41-b2101a06f476",
   "metadata": {},
   "outputs": [
    {
     "name": "stdout",
     "output_type": "stream",
     "text": [
      "Сравнение 83 и 93: p-value = 0.03741686585286501\n",
      "Сравнение 74 и 83: p-value = 0.5506581497434486\n",
      "Сравнение 74 и 93: p-value = 0.0015612499425901399\n"
     ]
    }
   ],
   "source": [
    "stat_83_93, p_83_93 = mannwhitneyu(\n",
    "    male_83['best_result'],\n",
    "    male_93['best_result']\n",
    ")\n",
    "stat_74_83, p_74_83 = mannwhitneyu(\n",
    "    male_74['best_result'],\n",
    "    male_83['best_result']\n",
    ")\n",
    "stat_74_93, p_74_93 = mannwhitneyu(\n",
    "    male_74['best_result'],\n",
    "    male_93['best_result']\n",
    ")\n",
    "\n",
    "print(f\"Сравнение 83 и 93: p-value = {p_83_93}\")\n",
    "print(f\"Сравнение 74 и 83: p-value = {p_74_83}\")\n",
    "print(f\"Сравнение 74 и 93: p-value = {p_74_93}\")"
   ]
  },
  {
   "cell_type": "markdown",
   "id": "1d4cb67e-5f24-4490-b05f-a0c23204bab6",
   "metadata": {},
   "source": [
    "Чтобы правильно оценить различия в группах, необходимо сделать поправку на множественные сравнения и скорректировать альфу у каждого p значения. \n",
    "\n",
    "Используем метод Холма, который не так консервативен, как поправка Бонферрони. \n",
    "\n",
    "Сначала нужно отсортировать исходные p-values по возрастанию: 0.00156 (для сравнения категорий 74 и 93), 0.03741 (83 и 93) и 0.55066 (74 и 83). Далее проводится корректировка p-value. Для наименьшего p-value (74 и 93) оно умножается на 3, что даёт скорректированное значение 0.00468. Для следующего по величине p-value (83 и 93) оно умножается на 2, и скорректированное значение составляет 0.07482. Последнее p-value (74 и 83) умножается на 1, что даёт то же значение 0.55066.\n",
    "\n",
    "В нашем случае только различие между весовыми категориями 74 и 93 является значимым, так как скорректированное p-value составляет 0.00468, что меньше 0.05. Различия между категориями 83 и 93, а также 74 и 83 незначимы, так как их p-values больше 0.05.\n",
    "\n",
    "\n",
    "\n",
    "На простом языке можно сказать следующее:\n",
    "результаты спортсменов в весовых категориях 74 кг и 93 кг статистически отличаются, то есть их достижения в лучшем результате действительно разные. Спортсмены из этих двух категорий показывают разные уровни результата. В то же время, спортсмены в категориях 74 кг и 83 кг, а также 83 кг и 93 кг, показывают схожие результаты, и их различия в достижениях несущественны с точки зрения статистики."
   ]
  }
 ],
 "metadata": {
  "kernelspec": {
   "display_name": "Python 3 (ipykernel)",
   "language": "python",
   "name": "python3"
  },
  "language_info": {
   "codemirror_mode": {
    "name": "ipython",
    "version": 3
   },
   "file_extension": ".py",
   "mimetype": "text/x-python",
   "name": "python",
   "nbconvert_exporter": "python",
   "pygments_lexer": "ipython3",
   "version": "3.12.1"
  }
 },
 "nbformat": 4,
 "nbformat_minor": 5
}
